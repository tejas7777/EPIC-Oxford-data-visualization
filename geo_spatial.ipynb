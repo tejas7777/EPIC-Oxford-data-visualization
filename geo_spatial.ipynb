{
 "cells": [
  {
   "cell_type": "code",
   "execution_count": 28,
   "metadata": {},
   "outputs": [
    {
     "name": "stdout",
     "output_type": "stream",
     "text": [
      "   Product id         Data S2 Name        Group  id      Product_details  \\\n",
      "0           1  Wheat & Rye (Bread)  starch_rich   1          Wheat bread   \n",
      "1           1  Wheat & Rye (Bread)  starch_rich   4          Wheat bread   \n",
      "2           1  Wheat & Rye (Bread)  starch_rich   5  Wheat and rye bread   \n",
      "3           1  Wheat & Rye (Bread)  starch_rich   6          Wheat bread   \n",
      "4           1  Wheat & Rye (Bread)  starch_rich   7          Wheat bread   \n",
      "\n",
      "     Country Weight  Land Use (m2*year)  Arable Land Use (m2*year)  \\\n",
      "0  Australia   0.9%                7.78                       7.78   \n",
      "1     France   1.4%                5.42                       5.42   \n",
      "2     France   1.4%               29.28                      29.28   \n",
      "3     France   0.2%                1.44                       1.44   \n",
      "4    Germany   1.1%                1.31                       1.31   \n",
      "\n",
      "   Pasture Land Use (m2*year)  Biodiversity (sp*yr*10^14)  \\\n",
      "0                         0.0                      220.91   \n",
      "1                         0.0                       19.49   \n",
      "2                         0.0                      105.26   \n",
      "3                         0.0                        2.36   \n",
      "4                         0.0                        2.11   \n",
      "\n",
      "   GHG Emissions (kg CO2eq, IPCC2013 incl CC feedbacks)  \\\n",
      "0                                               3.67      \n",
      "1                                               1.47      \n",
      "2                                               4.46      \n",
      "3                                               1.17      \n",
      "4                                               0.65      \n",
      "\n",
      "  Acidification (g SO2eq)  Eutrophication (g PO43-eq)  Water Use (L)  \\\n",
      "0                   15.35                       13.94           9.22   \n",
      "1                       -                       18.15           9.23   \n",
      "2                       -                       35.38          11.53   \n",
      "3                       -                        2.93          65.36   \n",
      "4                    5.27                        0.62           2.19   \n",
      "\n",
      "   Scarcity Weighted Water Use (L eq) Sys  \n",
      "0                              124.33   C  \n",
      "1                               24.81   C  \n",
      "2                               84.81   C  \n",
      "3                              262.65   C  \n",
      "4                                2.73   C  \n",
      "Product id                                                int64\n",
      "Data S2 Name                                             object\n",
      "Group                                                    object\n",
      "id                                                        int64\n",
      "Product_details                                          object\n",
      "Country                                                  object\n",
      "Weight                                                   object\n",
      "Land Use (m2*year)                                      float64\n",
      "Arable Land Use (m2*year)                               float64\n",
      "Pasture Land Use (m2*year)                              float64\n",
      "Biodiversity (sp*yr*10^14)                              float64\n",
      "GHG Emissions (kg CO2eq, IPCC2013 incl CC feedbacks)    float64\n",
      "Acidification (g SO2eq)                                  object\n",
      "Eutrophication (g PO43-eq)                              float64\n",
      "Water Use (L)                                           float64\n",
      "Scarcity Weighted Water Use (L eq)                      float64\n",
      "Sys                                                      object\n",
      "dtype: object\n"
     ]
    }
   ],
   "source": [
    "import pandas as pd\n",
    "import plotly.express as px\n",
    "df = pd.read_csv(\"dataset/jp_lca_dat.csv\", delimiter=',', encoding='latin-1')\n",
    "print(df.head())\n",
    "print(df.dtypes)"
   ]
  },
  {
   "cell_type": "code",
   "execution_count": 29,
   "metadata": {},
   "outputs": [],
   "source": [
    "meat_products = ['Beef', 'Mutton', 'Pork', 'Chicken', 'Duck', 'Turkey']\n",
    "fish_products = [\n",
    "    'Grass carp, silver carp, big head carp, common carp, catfish',\n",
    "    'Tilapia, African catfish', 'Rainbow trout', 'Trout', 'Sea bass, sea bream', 'Salmon',\n",
    "    'Common carp, tench, roach, perch, sander, pike', 'Tambaqui', 'Pangasius',\n",
    "    'Giant river prawn', 'Tiger prawn', 'Amazon river prawn', 'Giant giver prawn', 'Shrimp'\n",
    "]\n",
    "dairy_products = [\"Cow's milk\", \"Cow's cheese (Gouda)\"] "
   ]
  },
  {
   "cell_type": "code",
   "execution_count": 30,
   "metadata": {},
   "outputs": [],
   "source": [
    "def categorize_product(product):\n",
    "    if product in meat_products:\n",
    "        return 'Meat'\n",
    "    elif product in fish_products:\n",
    "        return 'Fish'\n",
    "    elif product in dairy_products:\n",
    "        return 'Vegetarian'  # Dairy products are part of vegetarian but not vegan\n",
    "    else:\n",
    "        return 'Vegan'  # Default to vegan if not in any of the above categories\n",
    "\n",
    "# Now apply this function to your DataFrame\n",
    "df['diet_group'] = df['Product_details'].apply(categorize_product)\n",
    "\n",
    "# Adjust the vegan group to include dairy for the vegetarian group\n",
    "df['diet_group'] = df.apply(lambda x: 'Vegetarian' if x['diet_group'] == 'Vegan' and x['Product_details'] in dairy_products else x['diet_group'], axis=1)"
   ]
  },
  {
   "cell_type": "code",
   "execution_count": 31,
   "metadata": {},
   "outputs": [
    {
     "data": {
      "application/vnd.plotly.v1+json": {
       "config": {
        "plotlyServerURL": "https://plot.ly"
       },
       "data": [
        {
         "coloraxis": "coloraxis",
         "customdata": [
          [
           "Vegan",
           3.36875
          ],
          [
           "Meat",
           30.905
          ],
          [
           "Vegan",
           1.2107407407407407
          ],
          [
           "Meat",
           10.99
          ],
          [
           "Fish",
           52.905
          ],
          [
           "Vegan",
           0.8157142857142857
          ],
          [
           "Vegan",
           14.325999999999999
          ],
          [
           "Fish",
           49.035714285714285
          ],
          [
           "Meat",
           102.29083333333334
          ],
          [
           "Vegan",
           5.076666666666666
          ],
          [
           "Vegetarian",
           26.130000000000003
          ],
          [
           "Fish",
           47.775
          ],
          [
           "Vegan",
           6.67
          ],
          [
           "Vegan",
           1.448888888888889
          ],
          [
           "Vegetarian",
           14.0725
          ],
          [
           "Vegan",
           0.6519230769230769
          ],
          [
           "Fish",
           13.1675
          ],
          [
           "Vegan",
           2.737313432835821
          ],
          [
           "Vegan",
           0.7
          ],
          [
           "Vegan",
           5.523333333333333
          ],
          [
           "Meat",
           20.68
          ],
          [
           "Vegan",
           1.1440000000000001
          ],
          [
           "Vegan",
           4.88
          ],
          [
           "Meat",
           9.41
          ],
          [
           "Vegan",
           2.538235294117647
          ],
          [
           "Vegetarian",
           11.509
          ],
          [
           "Vegan",
           0.8566666666666668
          ],
          [
           "Vegan",
           1.09
          ],
          [
           "Fish",
           14.938333333333333
          ],
          [
           "Meat",
           32.12054054054054
          ],
          [
           "Vegan",
           1.9445528455284553
          ],
          [
           "Vegetarian",
           9.818333333333333
          ],
          [
           "Meat",
           9.1675
          ],
          [
           "Vegan",
           1.241875
          ],
          [
           "Vegetarian",
           7.6325
          ],
          [
           "Vegan",
           1.3980000000000001
          ],
          [
           "Vegan",
           1.7783333333333333
          ],
          [
           "Vegan",
           0.77
          ],
          [
           "Vegan",
           3.64
          ],
          [
           "Vegan",
           1.7658064516129033
          ],
          [
           "Vegan",
           121.39750000000001
          ],
          [
           "Vegan",
           1.6454166666666667
          ],
          [
           "Vegetarian",
           7.39
          ],
          [
           "Vegan",
           0.585
          ],
          [
           "Vegan",
           2.1561971830985915
          ],
          [
           "Vegetarian",
           10.810833333333333
          ],
          [
           "Vegan",
           2.9116666666666666
          ],
          [
           "Vegan",
           12
          ],
          [
           "Meat",
           9.35
          ],
          [
           "Vegan",
           5.2575
          ],
          [
           "Vegan",
           0.78
          ],
          [
           "Meat",
           24.9575
          ],
          [
           "Vegan",
           1.6655555555555557
          ],
          [
           "Vegetarian",
           11.88
          ],
          [
           "Vegan",
           0.5333333333333333
          ],
          [
           "Vegan",
           1.6266666666666667
          ],
          [
           "Meat",
           22.42
          ],
          [
           "Vegan",
           1.6824999999999999
          ],
          [
           "Vegetarian",
           9.79
          ],
          [
           "Vegan",
           0.48363636363636364
          ],
          [
           "Vegan",
           33.2075
          ],
          [
           "Vegan",
           1.91375
          ],
          [
           "Vegan",
           1.62
          ],
          [
           "Fish",
           20.97
          ],
          [
           "Vegan",
           22.08
          ],
          [
           "Vegetarian",
           57.737500000000004
          ],
          [
           "Vegan",
           2.004
          ],
          [
           "Meat",
           10.32
          ],
          [
           "Vegan",
           2.6176190476190477
          ],
          [
           "Vegan",
           0.38
          ],
          [
           "Vegan",
           2.6142857142857143
          ],
          [
           "Meat",
           12.535
          ],
          [
           "Vegan",
           1.2887037037037037
          ],
          [
           "Meat",
           23.035833333333333
          ],
          [
           "Vegan",
           2.4844444444444442
          ],
          [
           "Vegan",
           1.3488
          ],
          [
           "Fish",
           20.485
          ],
          [
           "Vegan",
           5.1594999999999995
          ],
          [
           "Vegan",
           2.29
          ],
          [
           "Vegan",
           12.16
          ],
          [
           "Vegan",
           0.46
          ],
          [
           "Fish",
           8.5
          ],
          [
           "Meat",
           12.548333333333334
          ],
          [
           "Vegan",
           1.7437037037037035
          ],
          [
           "Meat",
           51.985
          ],
          [
           "Vegan",
           0.8901428571428571
          ],
          [
           "Fish",
           14.453333333333333
          ],
          [
           "Vegan",
           5.355
          ]
         ],
         "geo": "geo",
         "hovertemplate": "<b>%{hovertext}</b><br><br>Country=%{location}<br>diet_group=%{customdata[0]}<br>GHG Emissions (kg CO2eq)=%{z:.2f}<extra></extra>",
         "hovertext": [
          "Argentina",
          "Australia",
          "Australia",
          "Austria",
          "Bangladesh",
          "Belgium",
          "Benin",
          "Brazil",
          "Brazil",
          "Brazil",
          "Brazil",
          "Cameroon",
          "Cameroon",
          "Canada",
          "Canada",
          "Chile",
          "China",
          "China",
          "Colombia",
          "Costa Rica",
          "Cuba",
          "Cyprus",
          "Cte d'Ivoire",
          "Denmark",
          "Denmark",
          "Denmark",
          "Ecuador",
          "Finland",
          "France",
          "France",
          "France",
          "France",
          "Germany",
          "Germany",
          "Germany",
          "Ghana",
          "Greece",
          "Guadeloupe",
          "Hungary",
          "India",
          "Indonesia",
          "Iran (Islamic Republic of)",
          "Ireland",
          "Israel",
          "Italy",
          "Italy",
          "Japan",
          "Kenya",
          "Malaysia",
          "Malaysia",
          "Mauritius",
          "Mexico",
          "Mexico",
          "Mexico",
          "Morocco",
          "Nepal",
          "Netherlands",
          "Netherlands",
          "Netherlands",
          "New Zealand",
          "Nicaragua",
          "Norway",
          "Panama",
          "Peru",
          "Peru",
          "Peru",
          "Poland",
          "Portugal",
          "Portugal",
          "Russian Federation",
          "South Africa",
          "Spain",
          "Spain",
          "Sweden",
          "Sweden",
          "Switzerland",
          "Thailand",
          "Thailand",
          "Turkey",
          "Uganda",
          "Ukraine",
          "United Kingdom",
          "United Kingdom",
          "United Kingdom",
          "United States of America",
          "United States of America",
          "Viet Nam",
          "Viet Nam"
         ],
         "locationmode": "country names",
         "locations": [
          "Argentina",
          "Australia",
          "Australia",
          "Austria",
          "Bangladesh",
          "Belgium",
          "Benin",
          "Brazil",
          "Brazil",
          "Brazil",
          "Brazil",
          "Cameroon",
          "Cameroon",
          "Canada",
          "Canada",
          "Chile",
          "China",
          "China",
          "Colombia",
          "Costa Rica",
          "Cuba",
          "Cyprus",
          "Cte d'Ivoire",
          "Denmark",
          "Denmark",
          "Denmark",
          "Ecuador",
          "Finland",
          "France",
          "France",
          "France",
          "France",
          "Germany",
          "Germany",
          "Germany",
          "Ghana",
          "Greece",
          "Guadeloupe",
          "Hungary",
          "India",
          "Indonesia",
          "Iran (Islamic Republic of)",
          "Ireland",
          "Israel",
          "Italy",
          "Italy",
          "Japan",
          "Kenya",
          "Malaysia",
          "Malaysia",
          "Mauritius",
          "Mexico",
          "Mexico",
          "Mexico",
          "Morocco",
          "Nepal",
          "Netherlands",
          "Netherlands",
          "Netherlands",
          "New Zealand",
          "Nicaragua",
          "Norway",
          "Panama",
          "Peru",
          "Peru",
          "Peru",
          "Poland",
          "Portugal",
          "Portugal",
          "Russian Federation",
          "South Africa",
          "Spain",
          "Spain",
          "Sweden",
          "Sweden",
          "Switzerland",
          "Thailand",
          "Thailand",
          "Turkey",
          "Uganda",
          "Ukraine",
          "United Kingdom",
          "United Kingdom",
          "United Kingdom",
          "United States of America",
          "United States of America",
          "Viet Nam",
          "Viet Nam"
         ],
         "name": "",
         "type": "choropleth",
         "z": [
          3.36875,
          30.905,
          1.2107407407407407,
          10.99,
          52.905,
          0.8157142857142857,
          14.325999999999999,
          49.035714285714285,
          102.29083333333334,
          5.076666666666666,
          26.130000000000003,
          47.775,
          6.67,
          1.448888888888889,
          14.0725,
          0.6519230769230769,
          13.1675,
          2.737313432835821,
          0.7,
          5.523333333333333,
          20.68,
          1.1440000000000001,
          4.88,
          9.41,
          2.538235294117647,
          11.509,
          0.8566666666666668,
          1.09,
          14.938333333333333,
          32.12054054054054,
          1.9445528455284553,
          9.818333333333333,
          9.1675,
          1.241875,
          7.6325,
          1.3980000000000001,
          1.7783333333333333,
          0.77,
          3.64,
          1.7658064516129033,
          121.39750000000001,
          1.6454166666666667,
          7.39,
          0.585,
          2.1561971830985915,
          10.810833333333333,
          2.9116666666666666,
          12,
          9.35,
          5.2575,
          0.78,
          24.9575,
          1.6655555555555557,
          11.88,
          0.5333333333333333,
          1.6266666666666667,
          22.42,
          1.6824999999999999,
          9.79,
          0.48363636363636364,
          33.2075,
          1.91375,
          1.62,
          20.97,
          22.08,
          57.737500000000004,
          2.004,
          10.32,
          2.6176190476190477,
          0.38,
          2.6142857142857143,
          12.535,
          1.2887037037037037,
          23.035833333333333,
          2.4844444444444442,
          1.3488,
          20.485,
          5.1594999999999995,
          2.29,
          12.16,
          0.46,
          8.5,
          12.548333333333334,
          1.7437037037037035,
          51.985,
          0.8901428571428571,
          14.453333333333333,
          5.355
         ]
        }
       ],
       "layout": {
        "coloraxis": {
         "colorbar": {
          "title": {
           "text": "GHG Emissions (kg CO2eq)"
          }
         },
         "colorscale": [
          [
           0,
           "#0d0887"
          ],
          [
           0.1111111111111111,
           "#46039f"
          ],
          [
           0.2222222222222222,
           "#7201a8"
          ],
          [
           0.3333333333333333,
           "#9c179e"
          ],
          [
           0.4444444444444444,
           "#bd3786"
          ],
          [
           0.5555555555555556,
           "#d8576b"
          ],
          [
           0.6666666666666666,
           "#ed7953"
          ],
          [
           0.7777777777777778,
           "#fb9f3a"
          ],
          [
           0.8888888888888888,
           "#fdca26"
          ],
          [
           1,
           "#f0f921"
          ]
         ]
        },
        "geo": {
         "center": {},
         "domain": {
          "x": [
           0,
           1
          ],
          "y": [
           0,
           1
          ]
         }
        },
        "legend": {
         "tracegroupgap": 0
        },
        "template": {
         "data": {
          "bar": [
           {
            "error_x": {
             "color": "#2a3f5f"
            },
            "error_y": {
             "color": "#2a3f5f"
            },
            "marker": {
             "line": {
              "color": "#E5ECF6",
              "width": 0.5
             },
             "pattern": {
              "fillmode": "overlay",
              "size": 10,
              "solidity": 0.2
             }
            },
            "type": "bar"
           }
          ],
          "barpolar": [
           {
            "marker": {
             "line": {
              "color": "#E5ECF6",
              "width": 0.5
             },
             "pattern": {
              "fillmode": "overlay",
              "size": 10,
              "solidity": 0.2
             }
            },
            "type": "barpolar"
           }
          ],
          "carpet": [
           {
            "aaxis": {
             "endlinecolor": "#2a3f5f",
             "gridcolor": "white",
             "linecolor": "white",
             "minorgridcolor": "white",
             "startlinecolor": "#2a3f5f"
            },
            "baxis": {
             "endlinecolor": "#2a3f5f",
             "gridcolor": "white",
             "linecolor": "white",
             "minorgridcolor": "white",
             "startlinecolor": "#2a3f5f"
            },
            "type": "carpet"
           }
          ],
          "choropleth": [
           {
            "colorbar": {
             "outlinewidth": 0,
             "ticks": ""
            },
            "type": "choropleth"
           }
          ],
          "contour": [
           {
            "colorbar": {
             "outlinewidth": 0,
             "ticks": ""
            },
            "colorscale": [
             [
              0,
              "#0d0887"
             ],
             [
              0.1111111111111111,
              "#46039f"
             ],
             [
              0.2222222222222222,
              "#7201a8"
             ],
             [
              0.3333333333333333,
              "#9c179e"
             ],
             [
              0.4444444444444444,
              "#bd3786"
             ],
             [
              0.5555555555555556,
              "#d8576b"
             ],
             [
              0.6666666666666666,
              "#ed7953"
             ],
             [
              0.7777777777777778,
              "#fb9f3a"
             ],
             [
              0.8888888888888888,
              "#fdca26"
             ],
             [
              1,
              "#f0f921"
             ]
            ],
            "type": "contour"
           }
          ],
          "contourcarpet": [
           {
            "colorbar": {
             "outlinewidth": 0,
             "ticks": ""
            },
            "type": "contourcarpet"
           }
          ],
          "heatmap": [
           {
            "colorbar": {
             "outlinewidth": 0,
             "ticks": ""
            },
            "colorscale": [
             [
              0,
              "#0d0887"
             ],
             [
              0.1111111111111111,
              "#46039f"
             ],
             [
              0.2222222222222222,
              "#7201a8"
             ],
             [
              0.3333333333333333,
              "#9c179e"
             ],
             [
              0.4444444444444444,
              "#bd3786"
             ],
             [
              0.5555555555555556,
              "#d8576b"
             ],
             [
              0.6666666666666666,
              "#ed7953"
             ],
             [
              0.7777777777777778,
              "#fb9f3a"
             ],
             [
              0.8888888888888888,
              "#fdca26"
             ],
             [
              1,
              "#f0f921"
             ]
            ],
            "type": "heatmap"
           }
          ],
          "heatmapgl": [
           {
            "colorbar": {
             "outlinewidth": 0,
             "ticks": ""
            },
            "colorscale": [
             [
              0,
              "#0d0887"
             ],
             [
              0.1111111111111111,
              "#46039f"
             ],
             [
              0.2222222222222222,
              "#7201a8"
             ],
             [
              0.3333333333333333,
              "#9c179e"
             ],
             [
              0.4444444444444444,
              "#bd3786"
             ],
             [
              0.5555555555555556,
              "#d8576b"
             ],
             [
              0.6666666666666666,
              "#ed7953"
             ],
             [
              0.7777777777777778,
              "#fb9f3a"
             ],
             [
              0.8888888888888888,
              "#fdca26"
             ],
             [
              1,
              "#f0f921"
             ]
            ],
            "type": "heatmapgl"
           }
          ],
          "histogram": [
           {
            "marker": {
             "pattern": {
              "fillmode": "overlay",
              "size": 10,
              "solidity": 0.2
             }
            },
            "type": "histogram"
           }
          ],
          "histogram2d": [
           {
            "colorbar": {
             "outlinewidth": 0,
             "ticks": ""
            },
            "colorscale": [
             [
              0,
              "#0d0887"
             ],
             [
              0.1111111111111111,
              "#46039f"
             ],
             [
              0.2222222222222222,
              "#7201a8"
             ],
             [
              0.3333333333333333,
              "#9c179e"
             ],
             [
              0.4444444444444444,
              "#bd3786"
             ],
             [
              0.5555555555555556,
              "#d8576b"
             ],
             [
              0.6666666666666666,
              "#ed7953"
             ],
             [
              0.7777777777777778,
              "#fb9f3a"
             ],
             [
              0.8888888888888888,
              "#fdca26"
             ],
             [
              1,
              "#f0f921"
             ]
            ],
            "type": "histogram2d"
           }
          ],
          "histogram2dcontour": [
           {
            "colorbar": {
             "outlinewidth": 0,
             "ticks": ""
            },
            "colorscale": [
             [
              0,
              "#0d0887"
             ],
             [
              0.1111111111111111,
              "#46039f"
             ],
             [
              0.2222222222222222,
              "#7201a8"
             ],
             [
              0.3333333333333333,
              "#9c179e"
             ],
             [
              0.4444444444444444,
              "#bd3786"
             ],
             [
              0.5555555555555556,
              "#d8576b"
             ],
             [
              0.6666666666666666,
              "#ed7953"
             ],
             [
              0.7777777777777778,
              "#fb9f3a"
             ],
             [
              0.8888888888888888,
              "#fdca26"
             ],
             [
              1,
              "#f0f921"
             ]
            ],
            "type": "histogram2dcontour"
           }
          ],
          "mesh3d": [
           {
            "colorbar": {
             "outlinewidth": 0,
             "ticks": ""
            },
            "type": "mesh3d"
           }
          ],
          "parcoords": [
           {
            "line": {
             "colorbar": {
              "outlinewidth": 0,
              "ticks": ""
             }
            },
            "type": "parcoords"
           }
          ],
          "pie": [
           {
            "automargin": true,
            "type": "pie"
           }
          ],
          "scatter": [
           {
            "fillpattern": {
             "fillmode": "overlay",
             "size": 10,
             "solidity": 0.2
            },
            "type": "scatter"
           }
          ],
          "scatter3d": [
           {
            "line": {
             "colorbar": {
              "outlinewidth": 0,
              "ticks": ""
             }
            },
            "marker": {
             "colorbar": {
              "outlinewidth": 0,
              "ticks": ""
             }
            },
            "type": "scatter3d"
           }
          ],
          "scattercarpet": [
           {
            "marker": {
             "colorbar": {
              "outlinewidth": 0,
              "ticks": ""
             }
            },
            "type": "scattercarpet"
           }
          ],
          "scattergeo": [
           {
            "marker": {
             "colorbar": {
              "outlinewidth": 0,
              "ticks": ""
             }
            },
            "type": "scattergeo"
           }
          ],
          "scattergl": [
           {
            "marker": {
             "colorbar": {
              "outlinewidth": 0,
              "ticks": ""
             }
            },
            "type": "scattergl"
           }
          ],
          "scattermapbox": [
           {
            "marker": {
             "colorbar": {
              "outlinewidth": 0,
              "ticks": ""
             }
            },
            "type": "scattermapbox"
           }
          ],
          "scatterpolar": [
           {
            "marker": {
             "colorbar": {
              "outlinewidth": 0,
              "ticks": ""
             }
            },
            "type": "scatterpolar"
           }
          ],
          "scatterpolargl": [
           {
            "marker": {
             "colorbar": {
              "outlinewidth": 0,
              "ticks": ""
             }
            },
            "type": "scatterpolargl"
           }
          ],
          "scatterternary": [
           {
            "marker": {
             "colorbar": {
              "outlinewidth": 0,
              "ticks": ""
             }
            },
            "type": "scatterternary"
           }
          ],
          "surface": [
           {
            "colorbar": {
             "outlinewidth": 0,
             "ticks": ""
            },
            "colorscale": [
             [
              0,
              "#0d0887"
             ],
             [
              0.1111111111111111,
              "#46039f"
             ],
             [
              0.2222222222222222,
              "#7201a8"
             ],
             [
              0.3333333333333333,
              "#9c179e"
             ],
             [
              0.4444444444444444,
              "#bd3786"
             ],
             [
              0.5555555555555556,
              "#d8576b"
             ],
             [
              0.6666666666666666,
              "#ed7953"
             ],
             [
              0.7777777777777778,
              "#fb9f3a"
             ],
             [
              0.8888888888888888,
              "#fdca26"
             ],
             [
              1,
              "#f0f921"
             ]
            ],
            "type": "surface"
           }
          ],
          "table": [
           {
            "cells": {
             "fill": {
              "color": "#EBF0F8"
             },
             "line": {
              "color": "white"
             }
            },
            "header": {
             "fill": {
              "color": "#C8D4E3"
             },
             "line": {
              "color": "white"
             }
            },
            "type": "table"
           }
          ]
         },
         "layout": {
          "annotationdefaults": {
           "arrowcolor": "#2a3f5f",
           "arrowhead": 0,
           "arrowwidth": 1
          },
          "autotypenumbers": "strict",
          "coloraxis": {
           "colorbar": {
            "outlinewidth": 0,
            "ticks": ""
           }
          },
          "colorscale": {
           "diverging": [
            [
             0,
             "#8e0152"
            ],
            [
             0.1,
             "#c51b7d"
            ],
            [
             0.2,
             "#de77ae"
            ],
            [
             0.3,
             "#f1b6da"
            ],
            [
             0.4,
             "#fde0ef"
            ],
            [
             0.5,
             "#f7f7f7"
            ],
            [
             0.6,
             "#e6f5d0"
            ],
            [
             0.7,
             "#b8e186"
            ],
            [
             0.8,
             "#7fbc41"
            ],
            [
             0.9,
             "#4d9221"
            ],
            [
             1,
             "#276419"
            ]
           ],
           "sequential": [
            [
             0,
             "#0d0887"
            ],
            [
             0.1111111111111111,
             "#46039f"
            ],
            [
             0.2222222222222222,
             "#7201a8"
            ],
            [
             0.3333333333333333,
             "#9c179e"
            ],
            [
             0.4444444444444444,
             "#bd3786"
            ],
            [
             0.5555555555555556,
             "#d8576b"
            ],
            [
             0.6666666666666666,
             "#ed7953"
            ],
            [
             0.7777777777777778,
             "#fb9f3a"
            ],
            [
             0.8888888888888888,
             "#fdca26"
            ],
            [
             1,
             "#f0f921"
            ]
           ],
           "sequentialminus": [
            [
             0,
             "#0d0887"
            ],
            [
             0.1111111111111111,
             "#46039f"
            ],
            [
             0.2222222222222222,
             "#7201a8"
            ],
            [
             0.3333333333333333,
             "#9c179e"
            ],
            [
             0.4444444444444444,
             "#bd3786"
            ],
            [
             0.5555555555555556,
             "#d8576b"
            ],
            [
             0.6666666666666666,
             "#ed7953"
            ],
            [
             0.7777777777777778,
             "#fb9f3a"
            ],
            [
             0.8888888888888888,
             "#fdca26"
            ],
            [
             1,
             "#f0f921"
            ]
           ]
          },
          "colorway": [
           "#636efa",
           "#EF553B",
           "#00cc96",
           "#ab63fa",
           "#FFA15A",
           "#19d3f3",
           "#FF6692",
           "#B6E880",
           "#FF97FF",
           "#FECB52"
          ],
          "font": {
           "color": "#2a3f5f"
          },
          "geo": {
           "bgcolor": "white",
           "lakecolor": "white",
           "landcolor": "#E5ECF6",
           "showlakes": true,
           "showland": true,
           "subunitcolor": "white"
          },
          "hoverlabel": {
           "align": "left"
          },
          "hovermode": "closest",
          "mapbox": {
           "style": "light"
          },
          "paper_bgcolor": "white",
          "plot_bgcolor": "#E5ECF6",
          "polar": {
           "angularaxis": {
            "gridcolor": "white",
            "linecolor": "white",
            "ticks": ""
           },
           "bgcolor": "#E5ECF6",
           "radialaxis": {
            "gridcolor": "white",
            "linecolor": "white",
            "ticks": ""
           }
          },
          "scene": {
           "xaxis": {
            "backgroundcolor": "#E5ECF6",
            "gridcolor": "white",
            "gridwidth": 2,
            "linecolor": "white",
            "showbackground": true,
            "ticks": "",
            "zerolinecolor": "white"
           },
           "yaxis": {
            "backgroundcolor": "#E5ECF6",
            "gridcolor": "white",
            "gridwidth": 2,
            "linecolor": "white",
            "showbackground": true,
            "ticks": "",
            "zerolinecolor": "white"
           },
           "zaxis": {
            "backgroundcolor": "#E5ECF6",
            "gridcolor": "white",
            "gridwidth": 2,
            "linecolor": "white",
            "showbackground": true,
            "ticks": "",
            "zerolinecolor": "white"
           }
          },
          "shapedefaults": {
           "line": {
            "color": "#2a3f5f"
           }
          },
          "ternary": {
           "aaxis": {
            "gridcolor": "white",
            "linecolor": "white",
            "ticks": ""
           },
           "baxis": {
            "gridcolor": "white",
            "linecolor": "white",
            "ticks": ""
           },
           "bgcolor": "#E5ECF6",
           "caxis": {
            "gridcolor": "white",
            "linecolor": "white",
            "ticks": ""
           }
          },
          "title": {
           "x": 0.05
          },
          "xaxis": {
           "automargin": true,
           "gridcolor": "white",
           "linecolor": "white",
           "ticks": "",
           "title": {
            "standoff": 15
           },
           "zerolinecolor": "white",
           "zerolinewidth": 2
          },
          "yaxis": {
           "automargin": true,
           "gridcolor": "white",
           "linecolor": "white",
           "ticks": "",
           "title": {
            "standoff": 15
           },
           "zerolinecolor": "white",
           "zerolinewidth": 2
          }
         }
        },
        "title": {
         "text": "GHG Emissions by Diet Group and Country"
        }
       }
      }
     },
     "metadata": {},
     "output_type": "display_data"
    }
   ],
   "source": [
    "# Assume df is your DataFrame and it contains 'Country', 'GHG Emissions', and 'diet_group' columns\n",
    "# Aggregate GHG emissions by country and diet group\n",
    "agg_data = df.groupby(['Country', 'diet_group'])['GHG Emissions (kg CO2eq, IPCC2013 incl CC feedbacks)'].mean().reset_index()\n",
    "\n",
    "# Create the choropleth map\n",
    "fig = px.choropleth(\n",
    "    agg_data,\n",
    "    locations=\"Country\",\n",
    "    locationmode='country names',  # Make sure your country data matches the locationmode\n",
    "    color=\"GHG Emissions (kg CO2eq, IPCC2013 incl CC feedbacks)\",\n",
    "    hover_name=\"Country\",\n",
    "    hover_data={\"diet_group\": True, \"GHG Emissions (kg CO2eq, IPCC2013 incl CC feedbacks)\": ':.2f'},\n",
    "    title=\"GHG Emissions by Diet Group and Country\",\n",
    "    labels={\"GHG Emissions (kg CO2eq, IPCC2013 incl CC feedbacks)\": \"GHG Emissions (kg CO2eq)\"},\n",
    "    category_orders={\"diet_group\": [\"Vegan\", \"Vegetarian\", \"Fish\", \"Meat\"]},  # Optional: to ensure consistent color mapping\n",
    "    color_continuous_scale=px.colors.sequential.Plasma\n",
    ")\n",
    "\n",
    "fig.show()"
   ]
  },
  {
   "cell_type": "code",
   "execution_count": 32,
   "metadata": {},
   "outputs": [
    {
     "data": {
      "application/vnd.plotly.v1+json": {
       "config": {
        "plotlyServerURL": "https://plot.ly"
       },
       "data": [
        {
         "coloraxis": "coloraxis",
         "geo": "geo3",
         "hovertemplate": "diet_group=Vegan<br>Country=%{location}<br>GHG Emissions (kg CO2eq, IPCC2013 incl CC feedbacks)=%{z}<extra></extra>",
         "locationmode": "country names",
         "locations": [
          "Argentina",
          "Australia",
          "Belgium",
          "Benin",
          "Brazil",
          "Cameroon",
          "Canada",
          "Chile",
          "China",
          "Colombia",
          "Costa Rica",
          "Cyprus",
          "Cte d'Ivoire",
          "Denmark",
          "Ecuador",
          "Finland",
          "France",
          "Germany",
          "Ghana",
          "Greece",
          "Guadeloupe",
          "Hungary",
          "India",
          "Indonesia",
          "Iran (Islamic Republic of)",
          "Israel",
          "Italy",
          "Japan",
          "Kenya",
          "Malaysia",
          "Mauritius",
          "Mexico",
          "Morocco",
          "Nepal",
          "Netherlands",
          "New Zealand",
          "Nicaragua",
          "Norway",
          "Panama",
          "Peru",
          "Poland",
          "Portugal",
          "Russian Federation",
          "South Africa",
          "Spain",
          "Sweden",
          "Switzerland",
          "Thailand",
          "Turkey",
          "Uganda",
          "Ukraine",
          "United Kingdom",
          "United States of America",
          "Viet Nam"
         ],
         "name": "",
         "type": "choropleth",
         "z": [
          3.36875,
          1.2107407407407407,
          0.8157142857142857,
          14.325999999999999,
          5.076666666666666,
          6.67,
          1.448888888888889,
          0.6519230769230769,
          2.737313432835821,
          0.7,
          5.523333333333333,
          1.1440000000000001,
          4.88,
          2.538235294117647,
          0.8566666666666668,
          1.09,
          1.9445528455284553,
          1.241875,
          1.3980000000000001,
          1.7783333333333333,
          0.77,
          3.64,
          1.7658064516129033,
          121.39750000000001,
          1.6454166666666667,
          0.585,
          2.1561971830985915,
          2.9116666666666666,
          12,
          5.2575,
          0.78,
          1.6655555555555557,
          0.5333333333333333,
          1.6266666666666667,
          1.6824999999999999,
          0.48363636363636364,
          33.2075,
          1.91375,
          1.62,
          22.08,
          2.004,
          2.6176190476190477,
          0.38,
          2.6142857142857143,
          1.2887037037037037,
          2.4844444444444442,
          1.3488,
          5.1594999999999995,
          2.29,
          12.16,
          0.46,
          1.7437037037037035,
          0.8901428571428571,
          5.355
         ]
        },
        {
         "coloraxis": "coloraxis",
         "geo": "geo4",
         "hovertemplate": "diet_group=Meat<br>Country=%{location}<br>GHG Emissions (kg CO2eq, IPCC2013 incl CC feedbacks)=%{z}<extra></extra>",
         "locationmode": "country names",
         "locations": [
          "Australia",
          "Austria",
          "Brazil",
          "Cuba",
          "Denmark",
          "France",
          "Germany",
          "Malaysia",
          "Mexico",
          "Netherlands",
          "Portugal",
          "Spain",
          "Sweden",
          "United Kingdom",
          "United States of America"
         ],
         "name": "",
         "type": "choropleth",
         "z": [
          30.905,
          10.99,
          102.29083333333334,
          20.68,
          9.41,
          32.12054054054054,
          9.1675,
          9.35,
          24.9575,
          22.42,
          10.32,
          12.535,
          23.035833333333333,
          12.548333333333334,
          51.985
         ]
        },
        {
         "coloraxis": "coloraxis",
         "geo": "geo",
         "hovertemplate": "diet_group=Fish<br>Country=%{location}<br>GHG Emissions (kg CO2eq, IPCC2013 incl CC feedbacks)=%{z}<extra></extra>",
         "locationmode": "country names",
         "locations": [
          "Bangladesh",
          "Brazil",
          "Cameroon",
          "China",
          "France",
          "Peru",
          "Thailand",
          "United Kingdom",
          "Viet Nam"
         ],
         "name": "",
         "type": "choropleth",
         "z": [
          52.905,
          49.035714285714285,
          47.775,
          13.1675,
          14.938333333333333,
          20.97,
          20.485,
          8.5,
          14.453333333333333
         ]
        },
        {
         "coloraxis": "coloraxis",
         "geo": "geo2",
         "hovertemplate": "diet_group=Vegetarian<br>Country=%{location}<br>GHG Emissions (kg CO2eq, IPCC2013 incl CC feedbacks)=%{z}<extra></extra>",
         "locationmode": "country names",
         "locations": [
          "Brazil",
          "Canada",
          "Denmark",
          "France",
          "Germany",
          "Ireland",
          "Italy",
          "Mexico",
          "Netherlands",
          "Peru"
         ],
         "name": "",
         "type": "choropleth",
         "z": [
          26.130000000000003,
          14.0725,
          11.509,
          9.818333333333333,
          7.6325,
          7.39,
          10.810833333333333,
          11.88,
          9.79,
          57.737500000000004
         ]
        }
       ],
       "layout": {
        "annotations": [
         {
          "font": {},
          "showarrow": false,
          "text": "diet_group=Fish",
          "x": 0.245,
          "xanchor": "center",
          "xref": "paper",
          "y": 0.46499999999999997,
          "yanchor": "bottom",
          "yref": "paper"
         },
         {
          "font": {},
          "showarrow": false,
          "text": "diet_group=Vegetarian",
          "x": 0.755,
          "xanchor": "center",
          "xref": "paper",
          "y": 0.46499999999999997,
          "yanchor": "bottom",
          "yref": "paper"
         },
         {
          "font": {},
          "showarrow": false,
          "text": "diet_group=Vegan",
          "x": 0.245,
          "xanchor": "center",
          "xref": "paper",
          "y": 0.9999999999999999,
          "yanchor": "bottom",
          "yref": "paper"
         },
         {
          "font": {},
          "showarrow": false,
          "text": "diet_group=Meat",
          "x": 0.755,
          "xanchor": "center",
          "xref": "paper",
          "y": 0.9999999999999999,
          "yanchor": "bottom",
          "yref": "paper"
         }
        ],
        "coloraxis": {
         "colorbar": {
          "title": {
           "text": "GHG Emissions (kg CO2eq, IPCC2013 incl CC feedbacks)"
          }
         },
         "colorscale": [
          [
           0,
           "#440154"
          ],
          [
           0.1111111111111111,
           "#482878"
          ],
          [
           0.2222222222222222,
           "#3e4989"
          ],
          [
           0.3333333333333333,
           "#31688e"
          ],
          [
           0.4444444444444444,
           "#26828e"
          ],
          [
           0.5555555555555556,
           "#1f9e89"
          ],
          [
           0.6666666666666666,
           "#35b779"
          ],
          [
           0.7777777777777778,
           "#6ece58"
          ],
          [
           0.8888888888888888,
           "#b5de2b"
          ],
          [
           1,
           "#fde725"
          ]
         ]
        },
        "geo": {
         "center": {},
         "domain": {
          "x": [
           0,
           0.49
          ],
          "y": [
           0,
           0.46499999999999997
          ]
         }
        },
        "geo2": {
         "center": {},
         "domain": {
          "x": [
           0.51,
           1
          ],
          "y": [
           0,
           0.46499999999999997
          ]
         }
        },
        "geo3": {
         "center": {},
         "domain": {
          "x": [
           0,
           0.49
          ],
          "y": [
           0.5349999999999999,
           0.9999999999999999
          ]
         }
        },
        "geo4": {
         "center": {},
         "domain": {
          "x": [
           0.51,
           1
          ],
          "y": [
           0.5349999999999999,
           0.9999999999999999
          ]
         }
        },
        "legend": {
         "tracegroupgap": 0
        },
        "margin": {
         "t": 60
        },
        "template": {
         "data": {
          "bar": [
           {
            "error_x": {
             "color": "#2a3f5f"
            },
            "error_y": {
             "color": "#2a3f5f"
            },
            "marker": {
             "line": {
              "color": "#E5ECF6",
              "width": 0.5
             },
             "pattern": {
              "fillmode": "overlay",
              "size": 10,
              "solidity": 0.2
             }
            },
            "type": "bar"
           }
          ],
          "barpolar": [
           {
            "marker": {
             "line": {
              "color": "#E5ECF6",
              "width": 0.5
             },
             "pattern": {
              "fillmode": "overlay",
              "size": 10,
              "solidity": 0.2
             }
            },
            "type": "barpolar"
           }
          ],
          "carpet": [
           {
            "aaxis": {
             "endlinecolor": "#2a3f5f",
             "gridcolor": "white",
             "linecolor": "white",
             "minorgridcolor": "white",
             "startlinecolor": "#2a3f5f"
            },
            "baxis": {
             "endlinecolor": "#2a3f5f",
             "gridcolor": "white",
             "linecolor": "white",
             "minorgridcolor": "white",
             "startlinecolor": "#2a3f5f"
            },
            "type": "carpet"
           }
          ],
          "choropleth": [
           {
            "colorbar": {
             "outlinewidth": 0,
             "ticks": ""
            },
            "type": "choropleth"
           }
          ],
          "contour": [
           {
            "colorbar": {
             "outlinewidth": 0,
             "ticks": ""
            },
            "colorscale": [
             [
              0,
              "#0d0887"
             ],
             [
              0.1111111111111111,
              "#46039f"
             ],
             [
              0.2222222222222222,
              "#7201a8"
             ],
             [
              0.3333333333333333,
              "#9c179e"
             ],
             [
              0.4444444444444444,
              "#bd3786"
             ],
             [
              0.5555555555555556,
              "#d8576b"
             ],
             [
              0.6666666666666666,
              "#ed7953"
             ],
             [
              0.7777777777777778,
              "#fb9f3a"
             ],
             [
              0.8888888888888888,
              "#fdca26"
             ],
             [
              1,
              "#f0f921"
             ]
            ],
            "type": "contour"
           }
          ],
          "contourcarpet": [
           {
            "colorbar": {
             "outlinewidth": 0,
             "ticks": ""
            },
            "type": "contourcarpet"
           }
          ],
          "heatmap": [
           {
            "colorbar": {
             "outlinewidth": 0,
             "ticks": ""
            },
            "colorscale": [
             [
              0,
              "#0d0887"
             ],
             [
              0.1111111111111111,
              "#46039f"
             ],
             [
              0.2222222222222222,
              "#7201a8"
             ],
             [
              0.3333333333333333,
              "#9c179e"
             ],
             [
              0.4444444444444444,
              "#bd3786"
             ],
             [
              0.5555555555555556,
              "#d8576b"
             ],
             [
              0.6666666666666666,
              "#ed7953"
             ],
             [
              0.7777777777777778,
              "#fb9f3a"
             ],
             [
              0.8888888888888888,
              "#fdca26"
             ],
             [
              1,
              "#f0f921"
             ]
            ],
            "type": "heatmap"
           }
          ],
          "heatmapgl": [
           {
            "colorbar": {
             "outlinewidth": 0,
             "ticks": ""
            },
            "colorscale": [
             [
              0,
              "#0d0887"
             ],
             [
              0.1111111111111111,
              "#46039f"
             ],
             [
              0.2222222222222222,
              "#7201a8"
             ],
             [
              0.3333333333333333,
              "#9c179e"
             ],
             [
              0.4444444444444444,
              "#bd3786"
             ],
             [
              0.5555555555555556,
              "#d8576b"
             ],
             [
              0.6666666666666666,
              "#ed7953"
             ],
             [
              0.7777777777777778,
              "#fb9f3a"
             ],
             [
              0.8888888888888888,
              "#fdca26"
             ],
             [
              1,
              "#f0f921"
             ]
            ],
            "type": "heatmapgl"
           }
          ],
          "histogram": [
           {
            "marker": {
             "pattern": {
              "fillmode": "overlay",
              "size": 10,
              "solidity": 0.2
             }
            },
            "type": "histogram"
           }
          ],
          "histogram2d": [
           {
            "colorbar": {
             "outlinewidth": 0,
             "ticks": ""
            },
            "colorscale": [
             [
              0,
              "#0d0887"
             ],
             [
              0.1111111111111111,
              "#46039f"
             ],
             [
              0.2222222222222222,
              "#7201a8"
             ],
             [
              0.3333333333333333,
              "#9c179e"
             ],
             [
              0.4444444444444444,
              "#bd3786"
             ],
             [
              0.5555555555555556,
              "#d8576b"
             ],
             [
              0.6666666666666666,
              "#ed7953"
             ],
             [
              0.7777777777777778,
              "#fb9f3a"
             ],
             [
              0.8888888888888888,
              "#fdca26"
             ],
             [
              1,
              "#f0f921"
             ]
            ],
            "type": "histogram2d"
           }
          ],
          "histogram2dcontour": [
           {
            "colorbar": {
             "outlinewidth": 0,
             "ticks": ""
            },
            "colorscale": [
             [
              0,
              "#0d0887"
             ],
             [
              0.1111111111111111,
              "#46039f"
             ],
             [
              0.2222222222222222,
              "#7201a8"
             ],
             [
              0.3333333333333333,
              "#9c179e"
             ],
             [
              0.4444444444444444,
              "#bd3786"
             ],
             [
              0.5555555555555556,
              "#d8576b"
             ],
             [
              0.6666666666666666,
              "#ed7953"
             ],
             [
              0.7777777777777778,
              "#fb9f3a"
             ],
             [
              0.8888888888888888,
              "#fdca26"
             ],
             [
              1,
              "#f0f921"
             ]
            ],
            "type": "histogram2dcontour"
           }
          ],
          "mesh3d": [
           {
            "colorbar": {
             "outlinewidth": 0,
             "ticks": ""
            },
            "type": "mesh3d"
           }
          ],
          "parcoords": [
           {
            "line": {
             "colorbar": {
              "outlinewidth": 0,
              "ticks": ""
             }
            },
            "type": "parcoords"
           }
          ],
          "pie": [
           {
            "automargin": true,
            "type": "pie"
           }
          ],
          "scatter": [
           {
            "fillpattern": {
             "fillmode": "overlay",
             "size": 10,
             "solidity": 0.2
            },
            "type": "scatter"
           }
          ],
          "scatter3d": [
           {
            "line": {
             "colorbar": {
              "outlinewidth": 0,
              "ticks": ""
             }
            },
            "marker": {
             "colorbar": {
              "outlinewidth": 0,
              "ticks": ""
             }
            },
            "type": "scatter3d"
           }
          ],
          "scattercarpet": [
           {
            "marker": {
             "colorbar": {
              "outlinewidth": 0,
              "ticks": ""
             }
            },
            "type": "scattercarpet"
           }
          ],
          "scattergeo": [
           {
            "marker": {
             "colorbar": {
              "outlinewidth": 0,
              "ticks": ""
             }
            },
            "type": "scattergeo"
           }
          ],
          "scattergl": [
           {
            "marker": {
             "colorbar": {
              "outlinewidth": 0,
              "ticks": ""
             }
            },
            "type": "scattergl"
           }
          ],
          "scattermapbox": [
           {
            "marker": {
             "colorbar": {
              "outlinewidth": 0,
              "ticks": ""
             }
            },
            "type": "scattermapbox"
           }
          ],
          "scatterpolar": [
           {
            "marker": {
             "colorbar": {
              "outlinewidth": 0,
              "ticks": ""
             }
            },
            "type": "scatterpolar"
           }
          ],
          "scatterpolargl": [
           {
            "marker": {
             "colorbar": {
              "outlinewidth": 0,
              "ticks": ""
             }
            },
            "type": "scatterpolargl"
           }
          ],
          "scatterternary": [
           {
            "marker": {
             "colorbar": {
              "outlinewidth": 0,
              "ticks": ""
             }
            },
            "type": "scatterternary"
           }
          ],
          "surface": [
           {
            "colorbar": {
             "outlinewidth": 0,
             "ticks": ""
            },
            "colorscale": [
             [
              0,
              "#0d0887"
             ],
             [
              0.1111111111111111,
              "#46039f"
             ],
             [
              0.2222222222222222,
              "#7201a8"
             ],
             [
              0.3333333333333333,
              "#9c179e"
             ],
             [
              0.4444444444444444,
              "#bd3786"
             ],
             [
              0.5555555555555556,
              "#d8576b"
             ],
             [
              0.6666666666666666,
              "#ed7953"
             ],
             [
              0.7777777777777778,
              "#fb9f3a"
             ],
             [
              0.8888888888888888,
              "#fdca26"
             ],
             [
              1,
              "#f0f921"
             ]
            ],
            "type": "surface"
           }
          ],
          "table": [
           {
            "cells": {
             "fill": {
              "color": "#EBF0F8"
             },
             "line": {
              "color": "white"
             }
            },
            "header": {
             "fill": {
              "color": "#C8D4E3"
             },
             "line": {
              "color": "white"
             }
            },
            "type": "table"
           }
          ]
         },
         "layout": {
          "annotationdefaults": {
           "arrowcolor": "#2a3f5f",
           "arrowhead": 0,
           "arrowwidth": 1
          },
          "autotypenumbers": "strict",
          "coloraxis": {
           "colorbar": {
            "outlinewidth": 0,
            "ticks": ""
           }
          },
          "colorscale": {
           "diverging": [
            [
             0,
             "#8e0152"
            ],
            [
             0.1,
             "#c51b7d"
            ],
            [
             0.2,
             "#de77ae"
            ],
            [
             0.3,
             "#f1b6da"
            ],
            [
             0.4,
             "#fde0ef"
            ],
            [
             0.5,
             "#f7f7f7"
            ],
            [
             0.6,
             "#e6f5d0"
            ],
            [
             0.7,
             "#b8e186"
            ],
            [
             0.8,
             "#7fbc41"
            ],
            [
             0.9,
             "#4d9221"
            ],
            [
             1,
             "#276419"
            ]
           ],
           "sequential": [
            [
             0,
             "#0d0887"
            ],
            [
             0.1111111111111111,
             "#46039f"
            ],
            [
             0.2222222222222222,
             "#7201a8"
            ],
            [
             0.3333333333333333,
             "#9c179e"
            ],
            [
             0.4444444444444444,
             "#bd3786"
            ],
            [
             0.5555555555555556,
             "#d8576b"
            ],
            [
             0.6666666666666666,
             "#ed7953"
            ],
            [
             0.7777777777777778,
             "#fb9f3a"
            ],
            [
             0.8888888888888888,
             "#fdca26"
            ],
            [
             1,
             "#f0f921"
            ]
           ],
           "sequentialminus": [
            [
             0,
             "#0d0887"
            ],
            [
             0.1111111111111111,
             "#46039f"
            ],
            [
             0.2222222222222222,
             "#7201a8"
            ],
            [
             0.3333333333333333,
             "#9c179e"
            ],
            [
             0.4444444444444444,
             "#bd3786"
            ],
            [
             0.5555555555555556,
             "#d8576b"
            ],
            [
             0.6666666666666666,
             "#ed7953"
            ],
            [
             0.7777777777777778,
             "#fb9f3a"
            ],
            [
             0.8888888888888888,
             "#fdca26"
            ],
            [
             1,
             "#f0f921"
            ]
           ]
          },
          "colorway": [
           "#636efa",
           "#EF553B",
           "#00cc96",
           "#ab63fa",
           "#FFA15A",
           "#19d3f3",
           "#FF6692",
           "#B6E880",
           "#FF97FF",
           "#FECB52"
          ],
          "font": {
           "color": "#2a3f5f"
          },
          "geo": {
           "bgcolor": "white",
           "lakecolor": "white",
           "landcolor": "#E5ECF6",
           "showlakes": true,
           "showland": true,
           "subunitcolor": "white"
          },
          "hoverlabel": {
           "align": "left"
          },
          "hovermode": "closest",
          "mapbox": {
           "style": "light"
          },
          "paper_bgcolor": "white",
          "plot_bgcolor": "#E5ECF6",
          "polar": {
           "angularaxis": {
            "gridcolor": "white",
            "linecolor": "white",
            "ticks": ""
           },
           "bgcolor": "#E5ECF6",
           "radialaxis": {
            "gridcolor": "white",
            "linecolor": "white",
            "ticks": ""
           }
          },
          "scene": {
           "xaxis": {
            "backgroundcolor": "#E5ECF6",
            "gridcolor": "white",
            "gridwidth": 2,
            "linecolor": "white",
            "showbackground": true,
            "ticks": "",
            "zerolinecolor": "white"
           },
           "yaxis": {
            "backgroundcolor": "#E5ECF6",
            "gridcolor": "white",
            "gridwidth": 2,
            "linecolor": "white",
            "showbackground": true,
            "ticks": "",
            "zerolinecolor": "white"
           },
           "zaxis": {
            "backgroundcolor": "#E5ECF6",
            "gridcolor": "white",
            "gridwidth": 2,
            "linecolor": "white",
            "showbackground": true,
            "ticks": "",
            "zerolinecolor": "white"
           }
          },
          "shapedefaults": {
           "line": {
            "color": "#2a3f5f"
           }
          },
          "ternary": {
           "aaxis": {
            "gridcolor": "white",
            "linecolor": "white",
            "ticks": ""
           },
           "baxis": {
            "gridcolor": "white",
            "linecolor": "white",
            "ticks": ""
           },
           "bgcolor": "#E5ECF6",
           "caxis": {
            "gridcolor": "white",
            "linecolor": "white",
            "ticks": ""
           }
          },
          "title": {
           "x": 0.05
          },
          "xaxis": {
           "automargin": true,
           "gridcolor": "white",
           "linecolor": "white",
           "ticks": "",
           "title": {
            "standoff": 15
           },
           "zerolinecolor": "white",
           "zerolinewidth": 2
          },
          "yaxis": {
           "automargin": true,
           "gridcolor": "white",
           "linecolor": "white",
           "ticks": "",
           "title": {
            "standoff": 15
           },
           "zerolinecolor": "white",
           "zerolinewidth": 2
          }
         }
        },
        "title": {
         "text": "GHG Emissions by Diet Group and Country"
        }
       }
      }
     },
     "metadata": {},
     "output_type": "display_data"
    }
   ],
   "source": [
    "import plotly.graph_objects as go\n",
    "from plotly.subplots import make_subplots\n",
    "\n",
    "# Assuming agg_data is prepped with necessary 'Country', 'mean_emissions', and 'diet_group'\n",
    "fig = make_subplots(rows=1, cols=2, subplot_titles=[\"GHG Emissions\", \"Diet Group\"])\n",
    "\n",
    "# Facet by diet group\n",
    "fig = px.choropleth(\n",
    "    agg_data,\n",
    "    locations=\"Country\",\n",
    "    locationmode='country names',\n",
    "    color=\"GHG Emissions (kg CO2eq, IPCC2013 incl CC feedbacks)\",\n",
    "    facet_col=\"diet_group\",  # Create a map for each diet group\n",
    "    facet_col_wrap=2,  # Wrap at 2 columns\n",
    "    color_continuous_scale='Viridis'\n",
    ")\n",
    "\n",
    "fig.update_layout(title_text='GHG Emissions by Diet Group and Country')\n",
    "fig.show()"
   ]
  },
  {
   "cell_type": "code",
   "execution_count": 33,
   "metadata": {},
   "outputs": [
    {
     "data": {
      "application/vnd.plotly.v1+json": {
       "config": {
        "plotlyServerURL": "https://plot.ly"
       },
       "data": [
        {
         "coloraxis": "coloraxis",
         "geo": "geo",
         "hovertemplate": "Country=%{location}<br>GHG Emissions (kg CO2eq, IPCC2013 incl CC feedbacks)=%{z}<extra></extra>",
         "locationmode": "country names",
         "locations": [
          "Argentina",
          "Australia",
          "Australia",
          "Austria",
          "Bangladesh",
          "Belgium",
          "Benin",
          "Brazil",
          "Brazil",
          "Brazil",
          "Brazil",
          "Cameroon",
          "Cameroon",
          "Canada",
          "Canada",
          "Chile",
          "China",
          "China",
          "Colombia",
          "Costa Rica",
          "Cuba",
          "Cyprus",
          "Cte d'Ivoire",
          "Denmark",
          "Denmark",
          "Denmark",
          "Ecuador",
          "Finland",
          "France",
          "France",
          "France",
          "France",
          "Germany",
          "Germany",
          "Germany",
          "Ghana",
          "Greece",
          "Guadeloupe",
          "Hungary",
          "India",
          "Indonesia",
          "Iran (Islamic Republic of)",
          "Ireland",
          "Israel",
          "Italy",
          "Italy",
          "Japan",
          "Kenya",
          "Malaysia",
          "Malaysia",
          "Mauritius",
          "Mexico",
          "Mexico",
          "Mexico",
          "Morocco",
          "Nepal",
          "Netherlands",
          "Netherlands",
          "Netherlands",
          "New Zealand",
          "Nicaragua",
          "Norway",
          "Panama",
          "Peru",
          "Peru",
          "Peru",
          "Poland",
          "Portugal",
          "Portugal",
          "Russian Federation",
          "South Africa",
          "Spain",
          "Spain",
          "Sweden",
          "Sweden",
          "Switzerland",
          "Thailand",
          "Thailand",
          "Turkey",
          "Uganda",
          "Ukraine",
          "United Kingdom",
          "United Kingdom",
          "United Kingdom",
          "United States of America",
          "United States of America",
          "Viet Nam",
          "Viet Nam"
         ],
         "name": "",
         "type": "choropleth",
         "z": [
          3.36875,
          30.905,
          1.2107407407407407,
          10.99,
          52.905,
          0.8157142857142857,
          14.325999999999999,
          49.035714285714285,
          102.29083333333334,
          5.076666666666666,
          26.130000000000003,
          47.775,
          6.67,
          1.448888888888889,
          14.0725,
          0.6519230769230769,
          13.1675,
          2.737313432835821,
          0.7,
          5.523333333333333,
          20.68,
          1.1440000000000001,
          4.88,
          9.41,
          2.538235294117647,
          11.509,
          0.8566666666666668,
          1.09,
          14.938333333333333,
          32.12054054054054,
          1.9445528455284553,
          9.818333333333333,
          9.1675,
          1.241875,
          7.6325,
          1.3980000000000001,
          1.7783333333333333,
          0.77,
          3.64,
          1.7658064516129033,
          121.39750000000001,
          1.6454166666666667,
          7.39,
          0.585,
          2.1561971830985915,
          10.810833333333333,
          2.9116666666666666,
          12,
          9.35,
          5.2575,
          0.78,
          24.9575,
          1.6655555555555557,
          11.88,
          0.5333333333333333,
          1.6266666666666667,
          22.42,
          1.6824999999999999,
          9.79,
          0.48363636363636364,
          33.2075,
          1.91375,
          1.62,
          20.97,
          22.08,
          57.737500000000004,
          2.004,
          10.32,
          2.6176190476190477,
          0.38,
          2.6142857142857143,
          12.535,
          1.2887037037037037,
          23.035833333333333,
          2.4844444444444442,
          1.3488,
          20.485,
          5.1594999999999995,
          2.29,
          12.16,
          0.46,
          8.5,
          12.548333333333334,
          1.7437037037037035,
          51.985,
          0.8901428571428571,
          14.453333333333333,
          5.355
         ]
        }
       ],
       "layout": {
        "coloraxis": {
         "colorbar": {
          "title": {
           "text": "GHG Emissions (kg CO2eq, IPCC2013 incl CC feedbacks)"
          }
         },
         "colorscale": [
          [
           0,
           "rgb(255,245,240)"
          ],
          [
           0.125,
           "rgb(254,224,210)"
          ],
          [
           0.25,
           "rgb(252,187,161)"
          ],
          [
           0.375,
           "rgb(252,146,114)"
          ],
          [
           0.5,
           "rgb(251,106,74)"
          ],
          [
           0.625,
           "rgb(239,59,44)"
          ],
          [
           0.75,
           "rgb(203,24,29)"
          ],
          [
           0.875,
           "rgb(165,15,21)"
          ],
          [
           1,
           "rgb(103,0,13)"
          ]
         ]
        },
        "geo": {
         "center": {},
         "domain": {
          "x": [
           0,
           1
          ],
          "y": [
           0,
           1
          ]
         }
        },
        "legend": {
         "tracegroupgap": 0
        },
        "template": {
         "data": {
          "bar": [
           {
            "error_x": {
             "color": "#2a3f5f"
            },
            "error_y": {
             "color": "#2a3f5f"
            },
            "marker": {
             "line": {
              "color": "#E5ECF6",
              "width": 0.5
             },
             "pattern": {
              "fillmode": "overlay",
              "size": 10,
              "solidity": 0.2
             }
            },
            "type": "bar"
           }
          ],
          "barpolar": [
           {
            "marker": {
             "line": {
              "color": "#E5ECF6",
              "width": 0.5
             },
             "pattern": {
              "fillmode": "overlay",
              "size": 10,
              "solidity": 0.2
             }
            },
            "type": "barpolar"
           }
          ],
          "carpet": [
           {
            "aaxis": {
             "endlinecolor": "#2a3f5f",
             "gridcolor": "white",
             "linecolor": "white",
             "minorgridcolor": "white",
             "startlinecolor": "#2a3f5f"
            },
            "baxis": {
             "endlinecolor": "#2a3f5f",
             "gridcolor": "white",
             "linecolor": "white",
             "minorgridcolor": "white",
             "startlinecolor": "#2a3f5f"
            },
            "type": "carpet"
           }
          ],
          "choropleth": [
           {
            "colorbar": {
             "outlinewidth": 0,
             "ticks": ""
            },
            "type": "choropleth"
           }
          ],
          "contour": [
           {
            "colorbar": {
             "outlinewidth": 0,
             "ticks": ""
            },
            "colorscale": [
             [
              0,
              "#0d0887"
             ],
             [
              0.1111111111111111,
              "#46039f"
             ],
             [
              0.2222222222222222,
              "#7201a8"
             ],
             [
              0.3333333333333333,
              "#9c179e"
             ],
             [
              0.4444444444444444,
              "#bd3786"
             ],
             [
              0.5555555555555556,
              "#d8576b"
             ],
             [
              0.6666666666666666,
              "#ed7953"
             ],
             [
              0.7777777777777778,
              "#fb9f3a"
             ],
             [
              0.8888888888888888,
              "#fdca26"
             ],
             [
              1,
              "#f0f921"
             ]
            ],
            "type": "contour"
           }
          ],
          "contourcarpet": [
           {
            "colorbar": {
             "outlinewidth": 0,
             "ticks": ""
            },
            "type": "contourcarpet"
           }
          ],
          "heatmap": [
           {
            "colorbar": {
             "outlinewidth": 0,
             "ticks": ""
            },
            "colorscale": [
             [
              0,
              "#0d0887"
             ],
             [
              0.1111111111111111,
              "#46039f"
             ],
             [
              0.2222222222222222,
              "#7201a8"
             ],
             [
              0.3333333333333333,
              "#9c179e"
             ],
             [
              0.4444444444444444,
              "#bd3786"
             ],
             [
              0.5555555555555556,
              "#d8576b"
             ],
             [
              0.6666666666666666,
              "#ed7953"
             ],
             [
              0.7777777777777778,
              "#fb9f3a"
             ],
             [
              0.8888888888888888,
              "#fdca26"
             ],
             [
              1,
              "#f0f921"
             ]
            ],
            "type": "heatmap"
           }
          ],
          "heatmapgl": [
           {
            "colorbar": {
             "outlinewidth": 0,
             "ticks": ""
            },
            "colorscale": [
             [
              0,
              "#0d0887"
             ],
             [
              0.1111111111111111,
              "#46039f"
             ],
             [
              0.2222222222222222,
              "#7201a8"
             ],
             [
              0.3333333333333333,
              "#9c179e"
             ],
             [
              0.4444444444444444,
              "#bd3786"
             ],
             [
              0.5555555555555556,
              "#d8576b"
             ],
             [
              0.6666666666666666,
              "#ed7953"
             ],
             [
              0.7777777777777778,
              "#fb9f3a"
             ],
             [
              0.8888888888888888,
              "#fdca26"
             ],
             [
              1,
              "#f0f921"
             ]
            ],
            "type": "heatmapgl"
           }
          ],
          "histogram": [
           {
            "marker": {
             "pattern": {
              "fillmode": "overlay",
              "size": 10,
              "solidity": 0.2
             }
            },
            "type": "histogram"
           }
          ],
          "histogram2d": [
           {
            "colorbar": {
             "outlinewidth": 0,
             "ticks": ""
            },
            "colorscale": [
             [
              0,
              "#0d0887"
             ],
             [
              0.1111111111111111,
              "#46039f"
             ],
             [
              0.2222222222222222,
              "#7201a8"
             ],
             [
              0.3333333333333333,
              "#9c179e"
             ],
             [
              0.4444444444444444,
              "#bd3786"
             ],
             [
              0.5555555555555556,
              "#d8576b"
             ],
             [
              0.6666666666666666,
              "#ed7953"
             ],
             [
              0.7777777777777778,
              "#fb9f3a"
             ],
             [
              0.8888888888888888,
              "#fdca26"
             ],
             [
              1,
              "#f0f921"
             ]
            ],
            "type": "histogram2d"
           }
          ],
          "histogram2dcontour": [
           {
            "colorbar": {
             "outlinewidth": 0,
             "ticks": ""
            },
            "colorscale": [
             [
              0,
              "#0d0887"
             ],
             [
              0.1111111111111111,
              "#46039f"
             ],
             [
              0.2222222222222222,
              "#7201a8"
             ],
             [
              0.3333333333333333,
              "#9c179e"
             ],
             [
              0.4444444444444444,
              "#bd3786"
             ],
             [
              0.5555555555555556,
              "#d8576b"
             ],
             [
              0.6666666666666666,
              "#ed7953"
             ],
             [
              0.7777777777777778,
              "#fb9f3a"
             ],
             [
              0.8888888888888888,
              "#fdca26"
             ],
             [
              1,
              "#f0f921"
             ]
            ],
            "type": "histogram2dcontour"
           }
          ],
          "mesh3d": [
           {
            "colorbar": {
             "outlinewidth": 0,
             "ticks": ""
            },
            "type": "mesh3d"
           }
          ],
          "parcoords": [
           {
            "line": {
             "colorbar": {
              "outlinewidth": 0,
              "ticks": ""
             }
            },
            "type": "parcoords"
           }
          ],
          "pie": [
           {
            "automargin": true,
            "type": "pie"
           }
          ],
          "scatter": [
           {
            "fillpattern": {
             "fillmode": "overlay",
             "size": 10,
             "solidity": 0.2
            },
            "type": "scatter"
           }
          ],
          "scatter3d": [
           {
            "line": {
             "colorbar": {
              "outlinewidth": 0,
              "ticks": ""
             }
            },
            "marker": {
             "colorbar": {
              "outlinewidth": 0,
              "ticks": ""
             }
            },
            "type": "scatter3d"
           }
          ],
          "scattercarpet": [
           {
            "marker": {
             "colorbar": {
              "outlinewidth": 0,
              "ticks": ""
             }
            },
            "type": "scattercarpet"
           }
          ],
          "scattergeo": [
           {
            "marker": {
             "colorbar": {
              "outlinewidth": 0,
              "ticks": ""
             }
            },
            "type": "scattergeo"
           }
          ],
          "scattergl": [
           {
            "marker": {
             "colorbar": {
              "outlinewidth": 0,
              "ticks": ""
             }
            },
            "type": "scattergl"
           }
          ],
          "scattermapbox": [
           {
            "marker": {
             "colorbar": {
              "outlinewidth": 0,
              "ticks": ""
             }
            },
            "type": "scattermapbox"
           }
          ],
          "scatterpolar": [
           {
            "marker": {
             "colorbar": {
              "outlinewidth": 0,
              "ticks": ""
             }
            },
            "type": "scatterpolar"
           }
          ],
          "scatterpolargl": [
           {
            "marker": {
             "colorbar": {
              "outlinewidth": 0,
              "ticks": ""
             }
            },
            "type": "scatterpolargl"
           }
          ],
          "scatterternary": [
           {
            "marker": {
             "colorbar": {
              "outlinewidth": 0,
              "ticks": ""
             }
            },
            "type": "scatterternary"
           }
          ],
          "surface": [
           {
            "colorbar": {
             "outlinewidth": 0,
             "ticks": ""
            },
            "colorscale": [
             [
              0,
              "#0d0887"
             ],
             [
              0.1111111111111111,
              "#46039f"
             ],
             [
              0.2222222222222222,
              "#7201a8"
             ],
             [
              0.3333333333333333,
              "#9c179e"
             ],
             [
              0.4444444444444444,
              "#bd3786"
             ],
             [
              0.5555555555555556,
              "#d8576b"
             ],
             [
              0.6666666666666666,
              "#ed7953"
             ],
             [
              0.7777777777777778,
              "#fb9f3a"
             ],
             [
              0.8888888888888888,
              "#fdca26"
             ],
             [
              1,
              "#f0f921"
             ]
            ],
            "type": "surface"
           }
          ],
          "table": [
           {
            "cells": {
             "fill": {
              "color": "#EBF0F8"
             },
             "line": {
              "color": "white"
             }
            },
            "header": {
             "fill": {
              "color": "#C8D4E3"
             },
             "line": {
              "color": "white"
             }
            },
            "type": "table"
           }
          ]
         },
         "layout": {
          "annotationdefaults": {
           "arrowcolor": "#2a3f5f",
           "arrowhead": 0,
           "arrowwidth": 1
          },
          "autotypenumbers": "strict",
          "coloraxis": {
           "colorbar": {
            "outlinewidth": 0,
            "ticks": ""
           }
          },
          "colorscale": {
           "diverging": [
            [
             0,
             "#8e0152"
            ],
            [
             0.1,
             "#c51b7d"
            ],
            [
             0.2,
             "#de77ae"
            ],
            [
             0.3,
             "#f1b6da"
            ],
            [
             0.4,
             "#fde0ef"
            ],
            [
             0.5,
             "#f7f7f7"
            ],
            [
             0.6,
             "#e6f5d0"
            ],
            [
             0.7,
             "#b8e186"
            ],
            [
             0.8,
             "#7fbc41"
            ],
            [
             0.9,
             "#4d9221"
            ],
            [
             1,
             "#276419"
            ]
           ],
           "sequential": [
            [
             0,
             "#0d0887"
            ],
            [
             0.1111111111111111,
             "#46039f"
            ],
            [
             0.2222222222222222,
             "#7201a8"
            ],
            [
             0.3333333333333333,
             "#9c179e"
            ],
            [
             0.4444444444444444,
             "#bd3786"
            ],
            [
             0.5555555555555556,
             "#d8576b"
            ],
            [
             0.6666666666666666,
             "#ed7953"
            ],
            [
             0.7777777777777778,
             "#fb9f3a"
            ],
            [
             0.8888888888888888,
             "#fdca26"
            ],
            [
             1,
             "#f0f921"
            ]
           ],
           "sequentialminus": [
            [
             0,
             "#0d0887"
            ],
            [
             0.1111111111111111,
             "#46039f"
            ],
            [
             0.2222222222222222,
             "#7201a8"
            ],
            [
             0.3333333333333333,
             "#9c179e"
            ],
            [
             0.4444444444444444,
             "#bd3786"
            ],
            [
             0.5555555555555556,
             "#d8576b"
            ],
            [
             0.6666666666666666,
             "#ed7953"
            ],
            [
             0.7777777777777778,
             "#fb9f3a"
            ],
            [
             0.8888888888888888,
             "#fdca26"
            ],
            [
             1,
             "#f0f921"
            ]
           ]
          },
          "colorway": [
           "#636efa",
           "#EF553B",
           "#00cc96",
           "#ab63fa",
           "#FFA15A",
           "#19d3f3",
           "#FF6692",
           "#B6E880",
           "#FF97FF",
           "#FECB52"
          ],
          "font": {
           "color": "#2a3f5f"
          },
          "geo": {
           "bgcolor": "white",
           "lakecolor": "white",
           "landcolor": "#E5ECF6",
           "showlakes": true,
           "showland": true,
           "subunitcolor": "white"
          },
          "hoverlabel": {
           "align": "left"
          },
          "hovermode": "closest",
          "mapbox": {
           "style": "light"
          },
          "paper_bgcolor": "white",
          "plot_bgcolor": "#E5ECF6",
          "polar": {
           "angularaxis": {
            "gridcolor": "white",
            "linecolor": "white",
            "ticks": ""
           },
           "bgcolor": "#E5ECF6",
           "radialaxis": {
            "gridcolor": "white",
            "linecolor": "white",
            "ticks": ""
           }
          },
          "scene": {
           "xaxis": {
            "backgroundcolor": "#E5ECF6",
            "gridcolor": "white",
            "gridwidth": 2,
            "linecolor": "white",
            "showbackground": true,
            "ticks": "",
            "zerolinecolor": "white"
           },
           "yaxis": {
            "backgroundcolor": "#E5ECF6",
            "gridcolor": "white",
            "gridwidth": 2,
            "linecolor": "white",
            "showbackground": true,
            "ticks": "",
            "zerolinecolor": "white"
           },
           "zaxis": {
            "backgroundcolor": "#E5ECF6",
            "gridcolor": "white",
            "gridwidth": 2,
            "linecolor": "white",
            "showbackground": true,
            "ticks": "",
            "zerolinecolor": "white"
           }
          },
          "shapedefaults": {
           "line": {
            "color": "#2a3f5f"
           }
          },
          "ternary": {
           "aaxis": {
            "gridcolor": "white",
            "linecolor": "white",
            "ticks": ""
           },
           "baxis": {
            "gridcolor": "white",
            "linecolor": "white",
            "ticks": ""
           },
           "bgcolor": "#E5ECF6",
           "caxis": {
            "gridcolor": "white",
            "linecolor": "white",
            "ticks": ""
           }
          },
          "title": {
           "x": 0.05
          },
          "xaxis": {
           "automargin": true,
           "gridcolor": "white",
           "linecolor": "white",
           "ticks": "",
           "title": {
            "standoff": 15
           },
           "zerolinecolor": "white",
           "zerolinewidth": 2
          },
          "yaxis": {
           "automargin": true,
           "gridcolor": "white",
           "linecolor": "white",
           "ticks": "",
           "title": {
            "standoff": 15
           },
           "zerolinecolor": "white",
           "zerolinewidth": 2
          }
         }
        },
        "title": {
         "text": "Global GHG Emissions by Country"
        }
       }
      }
     },
     "metadata": {},
     "output_type": "display_data"
    },
    {
     "data": {
      "application/vnd.plotly.v1+json": {
       "config": {
        "plotlyServerURL": "https://plot.ly"
       },
       "data": [
        {
         "colorscale": [
          [
           0,
           "green"
          ],
          [
           1,
           "green"
          ]
         ],
         "geo": "geo",
         "hovertemplate": "diet_group=Vegan<br>Country=%{location}<extra></extra>",
         "locationmode": "country names",
         "locations": [
          "Argentina",
          "Australia",
          "Belgium",
          "Benin",
          "Brazil",
          "Cameroon",
          "Canada",
          "Chile",
          "China",
          "Colombia",
          "Costa Rica",
          "Cyprus",
          "Cte d'Ivoire",
          "Denmark",
          "Ecuador",
          "Finland",
          "France",
          "Germany",
          "Ghana",
          "Greece",
          "Guadeloupe",
          "Hungary",
          "India",
          "Indonesia",
          "Iran (Islamic Republic of)",
          "Israel",
          "Italy",
          "Japan",
          "Kenya",
          "Malaysia",
          "Mauritius",
          "Mexico",
          "Morocco",
          "Nepal",
          "Netherlands",
          "New Zealand",
          "Nicaragua",
          "Norway",
          "Panama",
          "Peru",
          "Poland",
          "Portugal",
          "Russian Federation",
          "South Africa",
          "Spain",
          "Sweden",
          "Switzerland",
          "Thailand",
          "Turkey",
          "Uganda",
          "Ukraine",
          "United Kingdom",
          "United States of America",
          "Viet Nam"
         ],
         "name": "Vegan",
         "showlegend": true,
         "showscale": false,
         "type": "choropleth",
         "z": [
          1,
          1,
          1,
          1,
          1,
          1,
          1,
          1,
          1,
          1,
          1,
          1,
          1,
          1,
          1,
          1,
          1,
          1,
          1,
          1,
          1,
          1,
          1,
          1,
          1,
          1,
          1,
          1,
          1,
          1,
          1,
          1,
          1,
          1,
          1,
          1,
          1,
          1,
          1,
          1,
          1,
          1,
          1,
          1,
          1,
          1,
          1,
          1,
          1,
          1,
          1,
          1,
          1,
          1
         ]
        },
        {
         "colorscale": [
          [
           0,
           "red"
          ],
          [
           1,
           "red"
          ]
         ],
         "geo": "geo",
         "hovertemplate": "diet_group=Meat<br>Country=%{location}<extra></extra>",
         "locationmode": "country names",
         "locations": [
          "Australia",
          "Austria",
          "Brazil",
          "Cuba",
          "Denmark",
          "France",
          "Germany",
          "Malaysia",
          "Mexico",
          "Netherlands",
          "Portugal",
          "Spain",
          "Sweden",
          "United Kingdom",
          "United States of America"
         ],
         "name": "Meat",
         "showlegend": true,
         "showscale": false,
         "type": "choropleth",
         "z": [
          1,
          1,
          1,
          1,
          1,
          1,
          1,
          1,
          1,
          1,
          1,
          1,
          1,
          1,
          1
         ]
        },
        {
         "colorscale": [
          [
           0,
           "blue"
          ],
          [
           1,
           "blue"
          ]
         ],
         "geo": "geo",
         "hovertemplate": "diet_group=Fish<br>Country=%{location}<extra></extra>",
         "locationmode": "country names",
         "locations": [
          "Bangladesh",
          "Brazil",
          "Cameroon",
          "China",
          "France",
          "Peru",
          "Thailand",
          "United Kingdom",
          "Viet Nam"
         ],
         "name": "Fish",
         "showlegend": true,
         "showscale": false,
         "type": "choropleth",
         "z": [
          1,
          1,
          1,
          1,
          1,
          1,
          1,
          1,
          1
         ]
        },
        {
         "colorscale": [
          [
           0,
           "yellow"
          ],
          [
           1,
           "yellow"
          ]
         ],
         "geo": "geo",
         "hovertemplate": "diet_group=Vegetarian<br>Country=%{location}<extra></extra>",
         "locationmode": "country names",
         "locations": [
          "Brazil",
          "Canada",
          "Denmark",
          "France",
          "Germany",
          "Ireland",
          "Italy",
          "Mexico",
          "Netherlands",
          "Peru"
         ],
         "name": "Vegetarian",
         "showlegend": true,
         "showscale": false,
         "type": "choropleth",
         "z": [
          1,
          1,
          1,
          1,
          1,
          1,
          1,
          1,
          1,
          1
         ]
        }
       ],
       "layout": {
        "geo": {
         "center": {},
         "domain": {
          "x": [
           0,
           1
          ],
          "y": [
           0,
           1
          ]
         }
        },
        "legend": {
         "title": {
          "text": "diet_group"
         },
         "tracegroupgap": 0
        },
        "template": {
         "data": {
          "bar": [
           {
            "error_x": {
             "color": "#2a3f5f"
            },
            "error_y": {
             "color": "#2a3f5f"
            },
            "marker": {
             "line": {
              "color": "#E5ECF6",
              "width": 0.5
             },
             "pattern": {
              "fillmode": "overlay",
              "size": 10,
              "solidity": 0.2
             }
            },
            "type": "bar"
           }
          ],
          "barpolar": [
           {
            "marker": {
             "line": {
              "color": "#E5ECF6",
              "width": 0.5
             },
             "pattern": {
              "fillmode": "overlay",
              "size": 10,
              "solidity": 0.2
             }
            },
            "type": "barpolar"
           }
          ],
          "carpet": [
           {
            "aaxis": {
             "endlinecolor": "#2a3f5f",
             "gridcolor": "white",
             "linecolor": "white",
             "minorgridcolor": "white",
             "startlinecolor": "#2a3f5f"
            },
            "baxis": {
             "endlinecolor": "#2a3f5f",
             "gridcolor": "white",
             "linecolor": "white",
             "minorgridcolor": "white",
             "startlinecolor": "#2a3f5f"
            },
            "type": "carpet"
           }
          ],
          "choropleth": [
           {
            "colorbar": {
             "outlinewidth": 0,
             "ticks": ""
            },
            "type": "choropleth"
           }
          ],
          "contour": [
           {
            "colorbar": {
             "outlinewidth": 0,
             "ticks": ""
            },
            "colorscale": [
             [
              0,
              "#0d0887"
             ],
             [
              0.1111111111111111,
              "#46039f"
             ],
             [
              0.2222222222222222,
              "#7201a8"
             ],
             [
              0.3333333333333333,
              "#9c179e"
             ],
             [
              0.4444444444444444,
              "#bd3786"
             ],
             [
              0.5555555555555556,
              "#d8576b"
             ],
             [
              0.6666666666666666,
              "#ed7953"
             ],
             [
              0.7777777777777778,
              "#fb9f3a"
             ],
             [
              0.8888888888888888,
              "#fdca26"
             ],
             [
              1,
              "#f0f921"
             ]
            ],
            "type": "contour"
           }
          ],
          "contourcarpet": [
           {
            "colorbar": {
             "outlinewidth": 0,
             "ticks": ""
            },
            "type": "contourcarpet"
           }
          ],
          "heatmap": [
           {
            "colorbar": {
             "outlinewidth": 0,
             "ticks": ""
            },
            "colorscale": [
             [
              0,
              "#0d0887"
             ],
             [
              0.1111111111111111,
              "#46039f"
             ],
             [
              0.2222222222222222,
              "#7201a8"
             ],
             [
              0.3333333333333333,
              "#9c179e"
             ],
             [
              0.4444444444444444,
              "#bd3786"
             ],
             [
              0.5555555555555556,
              "#d8576b"
             ],
             [
              0.6666666666666666,
              "#ed7953"
             ],
             [
              0.7777777777777778,
              "#fb9f3a"
             ],
             [
              0.8888888888888888,
              "#fdca26"
             ],
             [
              1,
              "#f0f921"
             ]
            ],
            "type": "heatmap"
           }
          ],
          "heatmapgl": [
           {
            "colorbar": {
             "outlinewidth": 0,
             "ticks": ""
            },
            "colorscale": [
             [
              0,
              "#0d0887"
             ],
             [
              0.1111111111111111,
              "#46039f"
             ],
             [
              0.2222222222222222,
              "#7201a8"
             ],
             [
              0.3333333333333333,
              "#9c179e"
             ],
             [
              0.4444444444444444,
              "#bd3786"
             ],
             [
              0.5555555555555556,
              "#d8576b"
             ],
             [
              0.6666666666666666,
              "#ed7953"
             ],
             [
              0.7777777777777778,
              "#fb9f3a"
             ],
             [
              0.8888888888888888,
              "#fdca26"
             ],
             [
              1,
              "#f0f921"
             ]
            ],
            "type": "heatmapgl"
           }
          ],
          "histogram": [
           {
            "marker": {
             "pattern": {
              "fillmode": "overlay",
              "size": 10,
              "solidity": 0.2
             }
            },
            "type": "histogram"
           }
          ],
          "histogram2d": [
           {
            "colorbar": {
             "outlinewidth": 0,
             "ticks": ""
            },
            "colorscale": [
             [
              0,
              "#0d0887"
             ],
             [
              0.1111111111111111,
              "#46039f"
             ],
             [
              0.2222222222222222,
              "#7201a8"
             ],
             [
              0.3333333333333333,
              "#9c179e"
             ],
             [
              0.4444444444444444,
              "#bd3786"
             ],
             [
              0.5555555555555556,
              "#d8576b"
             ],
             [
              0.6666666666666666,
              "#ed7953"
             ],
             [
              0.7777777777777778,
              "#fb9f3a"
             ],
             [
              0.8888888888888888,
              "#fdca26"
             ],
             [
              1,
              "#f0f921"
             ]
            ],
            "type": "histogram2d"
           }
          ],
          "histogram2dcontour": [
           {
            "colorbar": {
             "outlinewidth": 0,
             "ticks": ""
            },
            "colorscale": [
             [
              0,
              "#0d0887"
             ],
             [
              0.1111111111111111,
              "#46039f"
             ],
             [
              0.2222222222222222,
              "#7201a8"
             ],
             [
              0.3333333333333333,
              "#9c179e"
             ],
             [
              0.4444444444444444,
              "#bd3786"
             ],
             [
              0.5555555555555556,
              "#d8576b"
             ],
             [
              0.6666666666666666,
              "#ed7953"
             ],
             [
              0.7777777777777778,
              "#fb9f3a"
             ],
             [
              0.8888888888888888,
              "#fdca26"
             ],
             [
              1,
              "#f0f921"
             ]
            ],
            "type": "histogram2dcontour"
           }
          ],
          "mesh3d": [
           {
            "colorbar": {
             "outlinewidth": 0,
             "ticks": ""
            },
            "type": "mesh3d"
           }
          ],
          "parcoords": [
           {
            "line": {
             "colorbar": {
              "outlinewidth": 0,
              "ticks": ""
             }
            },
            "type": "parcoords"
           }
          ],
          "pie": [
           {
            "automargin": true,
            "type": "pie"
           }
          ],
          "scatter": [
           {
            "fillpattern": {
             "fillmode": "overlay",
             "size": 10,
             "solidity": 0.2
            },
            "type": "scatter"
           }
          ],
          "scatter3d": [
           {
            "line": {
             "colorbar": {
              "outlinewidth": 0,
              "ticks": ""
             }
            },
            "marker": {
             "colorbar": {
              "outlinewidth": 0,
              "ticks": ""
             }
            },
            "type": "scatter3d"
           }
          ],
          "scattercarpet": [
           {
            "marker": {
             "colorbar": {
              "outlinewidth": 0,
              "ticks": ""
             }
            },
            "type": "scattercarpet"
           }
          ],
          "scattergeo": [
           {
            "marker": {
             "colorbar": {
              "outlinewidth": 0,
              "ticks": ""
             }
            },
            "type": "scattergeo"
           }
          ],
          "scattergl": [
           {
            "marker": {
             "colorbar": {
              "outlinewidth": 0,
              "ticks": ""
             }
            },
            "type": "scattergl"
           }
          ],
          "scattermapbox": [
           {
            "marker": {
             "colorbar": {
              "outlinewidth": 0,
              "ticks": ""
             }
            },
            "type": "scattermapbox"
           }
          ],
          "scatterpolar": [
           {
            "marker": {
             "colorbar": {
              "outlinewidth": 0,
              "ticks": ""
             }
            },
            "type": "scatterpolar"
           }
          ],
          "scatterpolargl": [
           {
            "marker": {
             "colorbar": {
              "outlinewidth": 0,
              "ticks": ""
             }
            },
            "type": "scatterpolargl"
           }
          ],
          "scatterternary": [
           {
            "marker": {
             "colorbar": {
              "outlinewidth": 0,
              "ticks": ""
             }
            },
            "type": "scatterternary"
           }
          ],
          "surface": [
           {
            "colorbar": {
             "outlinewidth": 0,
             "ticks": ""
            },
            "colorscale": [
             [
              0,
              "#0d0887"
             ],
             [
              0.1111111111111111,
              "#46039f"
             ],
             [
              0.2222222222222222,
              "#7201a8"
             ],
             [
              0.3333333333333333,
              "#9c179e"
             ],
             [
              0.4444444444444444,
              "#bd3786"
             ],
             [
              0.5555555555555556,
              "#d8576b"
             ],
             [
              0.6666666666666666,
              "#ed7953"
             ],
             [
              0.7777777777777778,
              "#fb9f3a"
             ],
             [
              0.8888888888888888,
              "#fdca26"
             ],
             [
              1,
              "#f0f921"
             ]
            ],
            "type": "surface"
           }
          ],
          "table": [
           {
            "cells": {
             "fill": {
              "color": "#EBF0F8"
             },
             "line": {
              "color": "white"
             }
            },
            "header": {
             "fill": {
              "color": "#C8D4E3"
             },
             "line": {
              "color": "white"
             }
            },
            "type": "table"
           }
          ]
         },
         "layout": {
          "annotationdefaults": {
           "arrowcolor": "#2a3f5f",
           "arrowhead": 0,
           "arrowwidth": 1
          },
          "autotypenumbers": "strict",
          "coloraxis": {
           "colorbar": {
            "outlinewidth": 0,
            "ticks": ""
           }
          },
          "colorscale": {
           "diverging": [
            [
             0,
             "#8e0152"
            ],
            [
             0.1,
             "#c51b7d"
            ],
            [
             0.2,
             "#de77ae"
            ],
            [
             0.3,
             "#f1b6da"
            ],
            [
             0.4,
             "#fde0ef"
            ],
            [
             0.5,
             "#f7f7f7"
            ],
            [
             0.6,
             "#e6f5d0"
            ],
            [
             0.7,
             "#b8e186"
            ],
            [
             0.8,
             "#7fbc41"
            ],
            [
             0.9,
             "#4d9221"
            ],
            [
             1,
             "#276419"
            ]
           ],
           "sequential": [
            [
             0,
             "#0d0887"
            ],
            [
             0.1111111111111111,
             "#46039f"
            ],
            [
             0.2222222222222222,
             "#7201a8"
            ],
            [
             0.3333333333333333,
             "#9c179e"
            ],
            [
             0.4444444444444444,
             "#bd3786"
            ],
            [
             0.5555555555555556,
             "#d8576b"
            ],
            [
             0.6666666666666666,
             "#ed7953"
            ],
            [
             0.7777777777777778,
             "#fb9f3a"
            ],
            [
             0.8888888888888888,
             "#fdca26"
            ],
            [
             1,
             "#f0f921"
            ]
           ],
           "sequentialminus": [
            [
             0,
             "#0d0887"
            ],
            [
             0.1111111111111111,
             "#46039f"
            ],
            [
             0.2222222222222222,
             "#7201a8"
            ],
            [
             0.3333333333333333,
             "#9c179e"
            ],
            [
             0.4444444444444444,
             "#bd3786"
            ],
            [
             0.5555555555555556,
             "#d8576b"
            ],
            [
             0.6666666666666666,
             "#ed7953"
            ],
            [
             0.7777777777777778,
             "#fb9f3a"
            ],
            [
             0.8888888888888888,
             "#fdca26"
            ],
            [
             1,
             "#f0f921"
            ]
           ]
          },
          "colorway": [
           "#636efa",
           "#EF553B",
           "#00cc96",
           "#ab63fa",
           "#FFA15A",
           "#19d3f3",
           "#FF6692",
           "#B6E880",
           "#FF97FF",
           "#FECB52"
          ],
          "font": {
           "color": "#2a3f5f"
          },
          "geo": {
           "bgcolor": "white",
           "lakecolor": "white",
           "landcolor": "#E5ECF6",
           "showlakes": true,
           "showland": true,
           "subunitcolor": "white"
          },
          "hoverlabel": {
           "align": "left"
          },
          "hovermode": "closest",
          "mapbox": {
           "style": "light"
          },
          "paper_bgcolor": "white",
          "plot_bgcolor": "#E5ECF6",
          "polar": {
           "angularaxis": {
            "gridcolor": "white",
            "linecolor": "white",
            "ticks": ""
           },
           "bgcolor": "#E5ECF6",
           "radialaxis": {
            "gridcolor": "white",
            "linecolor": "white",
            "ticks": ""
           }
          },
          "scene": {
           "xaxis": {
            "backgroundcolor": "#E5ECF6",
            "gridcolor": "white",
            "gridwidth": 2,
            "linecolor": "white",
            "showbackground": true,
            "ticks": "",
            "zerolinecolor": "white"
           },
           "yaxis": {
            "backgroundcolor": "#E5ECF6",
            "gridcolor": "white",
            "gridwidth": 2,
            "linecolor": "white",
            "showbackground": true,
            "ticks": "",
            "zerolinecolor": "white"
           },
           "zaxis": {
            "backgroundcolor": "#E5ECF6",
            "gridcolor": "white",
            "gridwidth": 2,
            "linecolor": "white",
            "showbackground": true,
            "ticks": "",
            "zerolinecolor": "white"
           }
          },
          "shapedefaults": {
           "line": {
            "color": "#2a3f5f"
           }
          },
          "ternary": {
           "aaxis": {
            "gridcolor": "white",
            "linecolor": "white",
            "ticks": ""
           },
           "baxis": {
            "gridcolor": "white",
            "linecolor": "white",
            "ticks": ""
           },
           "bgcolor": "#E5ECF6",
           "caxis": {
            "gridcolor": "white",
            "linecolor": "white",
            "ticks": ""
           }
          },
          "title": {
           "x": 0.05
          },
          "xaxis": {
           "automargin": true,
           "gridcolor": "white",
           "linecolor": "white",
           "ticks": "",
           "title": {
            "standoff": 15
           },
           "zerolinecolor": "white",
           "zerolinewidth": 2
          },
          "yaxis": {
           "automargin": true,
           "gridcolor": "white",
           "linecolor": "white",
           "ticks": "",
           "title": {
            "standoff": 15
           },
           "zerolinecolor": "white",
           "zerolinewidth": 2
          }
         }
        },
        "title": {
         "text": "Diet Group Distribution by Country"
        }
       }
      }
     },
     "metadata": {},
     "output_type": "display_data"
    }
   ],
   "source": [
    "# Map for GHG Emissions\n",
    "fig_ghg = px.choropleth(\n",
    "    agg_data,\n",
    "    locations=\"Country\",\n",
    "    locationmode='country names',\n",
    "    color=\"GHG Emissions (kg CO2eq, IPCC2013 incl CC feedbacks)\",\n",
    "    color_continuous_scale='Reds',\n",
    "    title=\"Global GHG Emissions by Country\",\n",
    "    showlegend=False\n",
    ")\n",
    "fig_ghg.show()\n",
    "\n",
    "# Map for Diet Groups\n",
    "fig_diet = px.choropleth(\n",
    "    agg_data,\n",
    "    locations=\"Country\",\n",
    "    locationmode='country names',\n",
    "    color=\"diet_group\",\n",
    "    title=\"Diet Group Distribution by Country\",\n",
    "    color_discrete_map={\"Vegan\": \"green\", \"Vegetarian\": \"yellow\", \"Fish\": \"blue\", \"Meat\": \"red\"}\n",
    ")\n",
    "fig_diet.show()"
   ]
  },
  {
   "cell_type": "code",
   "execution_count": 35,
   "metadata": {},
   "outputs": [
    {
     "data": {
      "text/html": [
       "\n",
       "        <iframe\n",
       "            width=\"100%\"\n",
       "            height=\"650\"\n",
       "            src=\"http://127.0.0.1:8050/\"\n",
       "            frameborder=\"0\"\n",
       "            allowfullscreen\n",
       "            \n",
       "        ></iframe>\n",
       "        "
      ],
      "text/plain": [
       "<IPython.lib.display.IFrame at 0x169258d90>"
      ]
     },
     "metadata": {},
     "output_type": "display_data"
    }
   ],
   "source": [
    "import dash\n",
    "import dash_core_components as dcc\n",
    "import dash_html_components as html\n",
    "from dash.dependencies import Input, Output\n",
    "\n",
    "# Create a Dash application\n",
    "app = dash.Dash(__name__, external_stylesheets=['https://codepen.io/chriddyp/pen/bWLwgP.css'])\n",
    "\n",
    "# Assume fig_ghg and fig_diet are already created as described previously\n",
    "# Now let's define the layout of your Dash application\n",
    "app.layout = html.Div(children=[\n",
    "    html.H1(children='Environmental Impact Dashboard', style={'textAlign': 'center'}),\n",
    "\n",
    "    html.Div(children=[\n",
    "        html.Div([\n",
    "            dcc.Graph(\n",
    "                id='ghg-emissions-map',\n",
    "                figure=fig_ghg\n",
    "            )], className=\"six columns\"),\n",
    "\n",
    "        html.Div([\n",
    "            dcc.Graph(\n",
    "                id='diet-groups-map',\n",
    "                figure=fig_diet\n",
    "            )], className=\"six columns\"),\n",
    "    ], className=\"row\"),\n",
    "\n",
    "    html.Footer(children=[\n",
    "        html.P('Data Source: Provided by User', style={'textAlign': 'center'})\n",
    "    ], style={'marginTop': 50})\n",
    "], style={'maxWidth': '1200px', 'margin': '0 auto'})\n",
    "\n",
    "# Run the Dash app\n",
    "if __name__ == '__main__':\n",
    "    app.run_server(debug=True)\n"
   ]
  }
 ],
 "metadata": {
  "kernelspec": {
   "display_name": "base",
   "language": "python",
   "name": "python3"
  },
  "language_info": {
   "codemirror_mode": {
    "name": "ipython",
    "version": 3
   },
   "file_extension": ".py",
   "mimetype": "text/x-python",
   "name": "python",
   "nbconvert_exporter": "python",
   "pygments_lexer": "ipython3",
   "version": "3.11.5"
  }
 },
 "nbformat": 4,
 "nbformat_minor": 2
}
